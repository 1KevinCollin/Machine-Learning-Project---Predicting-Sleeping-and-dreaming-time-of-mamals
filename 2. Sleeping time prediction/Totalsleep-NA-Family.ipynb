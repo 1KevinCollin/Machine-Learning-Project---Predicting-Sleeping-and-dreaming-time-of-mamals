{
 "cells": [
  {
   "cell_type": "code",
   "execution_count": 1,
   "id": "c7e57e7b",
   "metadata": {},
   "outputs": [],
   "source": [
    "import numpy as np\n",
    "import pandas as pd\n",
    "import matplotlib.pyplot as plt\n",
    "import seaborn as sns\n",
    "import math"
   ]
  },
  {
   "cell_type": "code",
   "execution_count": 2,
   "id": "54c2146c",
   "metadata": {},
   "outputs": [
    {
     "data": {
      "text/html": [
       "<div>\n",
       "<style scoped>\n",
       "    .dataframe tbody tr th:only-of-type {\n",
       "        vertical-align: middle;\n",
       "    }\n",
       "\n",
       "    .dataframe tbody tr th {\n",
       "        vertical-align: top;\n",
       "    }\n",
       "\n",
       "    .dataframe thead th {\n",
       "        text-align: right;\n",
       "    }\n",
       "</style>\n",
       "<table border=\"1\" class=\"dataframe\">\n",
       "  <thead>\n",
       "    <tr style=\"text-align: right;\">\n",
       "      <th></th>\n",
       "      <th>TotalSleep</th>\n",
       "      <th>Awake</th>\n",
       "      <th>NonDreaming</th>\n",
       "      <th>Dreaming</th>\n",
       "      <th>Order</th>\n",
       "      <th>Family</th>\n",
       "      <th>Genus</th>\n",
       "      <th>Species</th>\n",
       "      <th>Vore</th>\n",
       "      <th>Conservation</th>\n",
       "      <th>BodyWt</th>\n",
       "      <th>BrainWt</th>\n",
       "      <th>LifeSpan</th>\n",
       "      <th>Gestation</th>\n",
       "      <th>Predation</th>\n",
       "      <th>Exposure</th>\n",
       "      <th>Danger</th>\n",
       "    </tr>\n",
       "  </thead>\n",
       "  <tbody>\n",
       "    <tr>\n",
       "      <th>0</th>\n",
       "      <td>7.7</td>\n",
       "      <td>16.3</td>\n",
       "      <td>NaN</td>\n",
       "      <td>0.9</td>\n",
       "      <td>Rodentia</td>\n",
       "      <td>Octodontidae</td>\n",
       "      <td>Octodon</td>\n",
       "      <td>Degu</td>\n",
       "      <td>herbi</td>\n",
       "      <td>lc</td>\n",
       "      <td>0.210</td>\n",
       "      <td>0.00</td>\n",
       "      <td>NaN</td>\n",
       "      <td>NaN</td>\n",
       "      <td>NaN</td>\n",
       "      <td>NaN</td>\n",
       "      <td>NaN</td>\n",
       "    </tr>\n",
       "    <tr>\n",
       "      <th>1</th>\n",
       "      <td>17.0</td>\n",
       "      <td>7.0</td>\n",
       "      <td>15.2</td>\n",
       "      <td>1.8</td>\n",
       "      <td>Primates</td>\n",
       "      <td>Aotidae</td>\n",
       "      <td>Aotus</td>\n",
       "      <td>Owl monkey</td>\n",
       "      <td>omni</td>\n",
       "      <td>NaN</td>\n",
       "      <td>0.480</td>\n",
       "      <td>15.50</td>\n",
       "      <td>12.0</td>\n",
       "      <td>140.0</td>\n",
       "      <td>2.0</td>\n",
       "      <td>2.0</td>\n",
       "      <td>2.0</td>\n",
       "    </tr>\n",
       "    <tr>\n",
       "      <th>2</th>\n",
       "      <td>14.4</td>\n",
       "      <td>9.6</td>\n",
       "      <td>8.4</td>\n",
       "      <td>2.8</td>\n",
       "      <td>Rodentia</td>\n",
       "      <td>Aplodontiidae</td>\n",
       "      <td>Aplodontia</td>\n",
       "      <td>Mountain beaver</td>\n",
       "      <td>herbi</td>\n",
       "      <td>nt</td>\n",
       "      <td>1.350</td>\n",
       "      <td>8.10</td>\n",
       "      <td>NaN</td>\n",
       "      <td>45.0</td>\n",
       "      <td>3.0</td>\n",
       "      <td>1.0</td>\n",
       "      <td>3.0</td>\n",
       "    </tr>\n",
       "    <tr>\n",
       "      <th>3</th>\n",
       "      <td>4.0</td>\n",
       "      <td>20.0</td>\n",
       "      <td>3.2</td>\n",
       "      <td>0.7</td>\n",
       "      <td>Artiodactyla</td>\n",
       "      <td>Bovidae</td>\n",
       "      <td>Bos</td>\n",
       "      <td>Cow</td>\n",
       "      <td>herbi</td>\n",
       "      <td>domesticated</td>\n",
       "      <td>600.000</td>\n",
       "      <td>423.00</td>\n",
       "      <td>30.0</td>\n",
       "      <td>281.0</td>\n",
       "      <td>5.0</td>\n",
       "      <td>5.0</td>\n",
       "      <td>5.0</td>\n",
       "    </tr>\n",
       "    <tr>\n",
       "      <th>4</th>\n",
       "      <td>5.3</td>\n",
       "      <td>18.7</td>\n",
       "      <td>3.3</td>\n",
       "      <td>0.5</td>\n",
       "      <td>Artiodactyla</td>\n",
       "      <td>Bovidae</td>\n",
       "      <td>Capri</td>\n",
       "      <td>Goat</td>\n",
       "      <td>herbi</td>\n",
       "      <td>lc</td>\n",
       "      <td>33.500</td>\n",
       "      <td>115.00</td>\n",
       "      <td>20.0</td>\n",
       "      <td>148.0</td>\n",
       "      <td>5.0</td>\n",
       "      <td>5.0</td>\n",
       "      <td>5.0</td>\n",
       "    </tr>\n",
       "    <tr>\n",
       "      <th>...</th>\n",
       "      <td>...</td>\n",
       "      <td>...</td>\n",
       "      <td>...</td>\n",
       "      <td>...</td>\n",
       "      <td>...</td>\n",
       "      <td>...</td>\n",
       "      <td>...</td>\n",
       "      <td>...</td>\n",
       "      <td>...</td>\n",
       "      <td>...</td>\n",
       "      <td>...</td>\n",
       "      <td>...</td>\n",
       "      <td>...</td>\n",
       "      <td>...</td>\n",
       "      <td>...</td>\n",
       "      <td>...</td>\n",
       "      <td>...</td>\n",
       "    </tr>\n",
       "    <tr>\n",
       "      <th>82</th>\n",
       "      <td>15.6</td>\n",
       "      <td>8.4</td>\n",
       "      <td>11.0</td>\n",
       "      <td>2.3</td>\n",
       "      <td>Afrosoricida</td>\n",
       "      <td>Tenrecidae</td>\n",
       "      <td>Tenrec</td>\n",
       "      <td>Tenrec</td>\n",
       "      <td>omni</td>\n",
       "      <td>NaN</td>\n",
       "      <td>0.900</td>\n",
       "      <td>2.60</td>\n",
       "      <td>4.5</td>\n",
       "      <td>60.0</td>\n",
       "      <td>2.0</td>\n",
       "      <td>1.0</td>\n",
       "      <td>2.0</td>\n",
       "    </tr>\n",
       "    <tr>\n",
       "      <th>83</th>\n",
       "      <td>8.9</td>\n",
       "      <td>15.1</td>\n",
       "      <td>13.2</td>\n",
       "      <td>2.6</td>\n",
       "      <td>Scandentia</td>\n",
       "      <td>Tupaiidae</td>\n",
       "      <td>Tupaia</td>\n",
       "      <td>Tree shrew</td>\n",
       "      <td>omni</td>\n",
       "      <td>NaN</td>\n",
       "      <td>0.104</td>\n",
       "      <td>2.50</td>\n",
       "      <td>2.3</td>\n",
       "      <td>46.0</td>\n",
       "      <td>3.0</td>\n",
       "      <td>2.0</td>\n",
       "      <td>2.0</td>\n",
       "    </tr>\n",
       "    <tr>\n",
       "      <th>84</th>\n",
       "      <td>19.7</td>\n",
       "      <td>4.3</td>\n",
       "      <td>15.8</td>\n",
       "      <td>3.9</td>\n",
       "      <td>Chiroptera</td>\n",
       "      <td>Vespertilionidae</td>\n",
       "      <td>Eptesicus</td>\n",
       "      <td>Big brown bat</td>\n",
       "      <td>insecti</td>\n",
       "      <td>lc</td>\n",
       "      <td>0.023</td>\n",
       "      <td>0.30</td>\n",
       "      <td>19.0</td>\n",
       "      <td>35.0</td>\n",
       "      <td>1.0</td>\n",
       "      <td>1.0</td>\n",
       "      <td>1.0</td>\n",
       "    </tr>\n",
       "    <tr>\n",
       "      <th>85</th>\n",
       "      <td>19.9</td>\n",
       "      <td>4.1</td>\n",
       "      <td>17.9</td>\n",
       "      <td>2.0</td>\n",
       "      <td>Chiroptera</td>\n",
       "      <td>Vespertilionidae</td>\n",
       "      <td>Myotis</td>\n",
       "      <td>Little brown bat</td>\n",
       "      <td>insecti</td>\n",
       "      <td>NaN</td>\n",
       "      <td>0.010</td>\n",
       "      <td>0.25</td>\n",
       "      <td>24.0</td>\n",
       "      <td>50.0</td>\n",
       "      <td>1.0</td>\n",
       "      <td>1.0</td>\n",
       "      <td>1.0</td>\n",
       "    </tr>\n",
       "    <tr>\n",
       "      <th>86</th>\n",
       "      <td>6.3</td>\n",
       "      <td>17.7</td>\n",
       "      <td>4.8</td>\n",
       "      <td>1.3</td>\n",
       "      <td>Carnivora</td>\n",
       "      <td>Viverridae</td>\n",
       "      <td>Genetta</td>\n",
       "      <td>Genet</td>\n",
       "      <td>carni</td>\n",
       "      <td>NaN</td>\n",
       "      <td>2.000</td>\n",
       "      <td>17.50</td>\n",
       "      <td>34.0</td>\n",
       "      <td>NaN</td>\n",
       "      <td>1.0</td>\n",
       "      <td>2.0</td>\n",
       "      <td>1.0</td>\n",
       "    </tr>\n",
       "  </tbody>\n",
       "</table>\n",
       "<p>87 rows × 17 columns</p>\n",
       "</div>"
      ],
      "text/plain": [
       "    TotalSleep  Awake  NonDreaming  Dreaming         Order            Family  \\\n",
       "0          7.7   16.3          NaN       0.9      Rodentia      Octodontidae   \n",
       "1         17.0    7.0         15.2       1.8      Primates           Aotidae   \n",
       "2         14.4    9.6          8.4       2.8      Rodentia     Aplodontiidae   \n",
       "3          4.0   20.0          3.2       0.7  Artiodactyla           Bovidae   \n",
       "4          5.3   18.7          3.3       0.5  Artiodactyla           Bovidae   \n",
       "..         ...    ...          ...       ...           ...               ...   \n",
       "82        15.6    8.4         11.0       2.3  Afrosoricida        Tenrecidae   \n",
       "83         8.9   15.1         13.2       2.6    Scandentia         Tupaiidae   \n",
       "84        19.7    4.3         15.8       3.9    Chiroptera  Vespertilionidae   \n",
       "85        19.9    4.1         17.9       2.0    Chiroptera  Vespertilionidae   \n",
       "86         6.3   17.7          4.8       1.3     Carnivora        Viverridae   \n",
       "\n",
       "         Genus           Species     Vore  Conservation   BodyWt  BrainWt  \\\n",
       "0      Octodon              Degu    herbi            lc    0.210     0.00   \n",
       "1        Aotus        Owl monkey     omni           NaN    0.480    15.50   \n",
       "2   Aplodontia   Mountain beaver    herbi            nt    1.350     8.10   \n",
       "3          Bos               Cow    herbi  domesticated  600.000   423.00   \n",
       "4        Capri              Goat    herbi            lc   33.500   115.00   \n",
       "..         ...               ...      ...           ...      ...      ...   \n",
       "82      Tenrec            Tenrec     omni           NaN    0.900     2.60   \n",
       "83      Tupaia        Tree shrew     omni           NaN    0.104     2.50   \n",
       "84   Eptesicus     Big brown bat  insecti            lc    0.023     0.30   \n",
       "85      Myotis  Little brown bat  insecti           NaN    0.010     0.25   \n",
       "86     Genetta             Genet    carni           NaN    2.000    17.50   \n",
       "\n",
       "    LifeSpan  Gestation  Predation  Exposure  Danger  \n",
       "0        NaN        NaN        NaN       NaN     NaN  \n",
       "1       12.0      140.0        2.0       2.0     2.0  \n",
       "2        NaN       45.0        3.0       1.0     3.0  \n",
       "3       30.0      281.0        5.0       5.0     5.0  \n",
       "4       20.0      148.0        5.0       5.0     5.0  \n",
       "..       ...        ...        ...       ...     ...  \n",
       "82       4.5       60.0        2.0       1.0     2.0  \n",
       "83       2.3       46.0        3.0       2.0     2.0  \n",
       "84      19.0       35.0        1.0       1.0     1.0  \n",
       "85      24.0       50.0        1.0       1.0     1.0  \n",
       "86      34.0        NaN        1.0       2.0     1.0  \n",
       "\n",
       "[87 rows x 17 columns]"
      ]
     },
     "execution_count": 2,
     "metadata": {},
     "output_type": "execute_result"
    }
   ],
   "source": [
    "df = pd.read_excel(\"C:/Users/kacik/Documents/Famille_Taxonomie.xlsx\")\n",
    "df"
   ]
  },
  {
   "cell_type": "code",
   "execution_count": 3,
   "id": "032a1066",
   "metadata": {},
   "outputs": [
    {
     "data": {
      "text/plain": [
       "8"
      ]
     },
     "execution_count": 3,
     "metadata": {},
     "output_type": "execute_result"
    }
   ],
   "source": [
    "df.groupby(by=[\"Family\"])['Predation'].mean().isna().sum()"
   ]
  },
  {
   "cell_type": "code",
   "execution_count": 4,
   "id": "9496e1ac",
   "metadata": {},
   "outputs": [
    {
     "data": {
      "text/plain": [
       "Family\n",
       "Aotidae             2.0\n",
       "Aplodontiidae       1.0\n",
       "Bovidae             5.0\n",
       "Bradypodidae        NaN\n",
       "Canidae             1.0\n",
       "Caviidae            3.0\n",
       "Cebidae             NaN\n",
       "Cercopithecidae     3.5\n",
       "Cervidae            5.0\n",
       "Chinchillidae       4.0\n",
       "Chlamyphoridae      1.0\n",
       "Circoviridae        5.0\n",
       "Cricetidae          1.0\n",
       "Dasypodidae         1.0\n",
       "Delphinidae         NaN\n",
       "Didelphidae         1.0\n",
       "Elephantidae        5.0\n",
       "Equidae             5.0\n",
       "Erinaceidae         1.5\n",
       "Felidae             1.5\n",
       "Galagidae           2.0\n",
       "Giraffidae          5.0\n",
       "Hominidae           2.0\n",
       "Lemuridae           NaN\n",
       "Lorisidae           2.0\n",
       "Muridae             1.0\n",
       "Nesomyidae          1.0\n",
       "Octodontidae        NaN\n",
       "Otariidae           NaN\n",
       "Phalangeridae       1.0\n",
       "Phocidae            3.0\n",
       "Phocoenidae         NaN\n",
       "Potoroidae          NaN\n",
       "Procaviidae         1.5\n",
       "Procyonidae         2.0\n",
       "Sciuridae           1.5\n",
       "Soricidae           1.5\n",
       "Suidae              4.0\n",
       "Tachyglossidae      2.0\n",
       "Talpidae            1.0\n",
       "Tapiridae           5.0\n",
       "Tenrecidae          1.0\n",
       "Tupaiidae           2.0\n",
       "Vespertilionidae    1.0\n",
       "Viverridae          2.0\n",
       "Name: Exposure, dtype: float64"
      ]
     },
     "execution_count": 4,
     "metadata": {},
     "output_type": "execute_result"
    }
   ],
   "source": [
    "df.groupby(by=[\"Family\"])['Exposure'].mean()"
   ]
  },
  {
   "cell_type": "code",
   "execution_count": 5,
   "id": "af606ab3",
   "metadata": {},
   "outputs": [
    {
     "data": {
      "text/plain": [
       "Family\n",
       "Aotidae             2.0\n",
       "Aplodontiidae       3.0\n",
       "Bovidae             5.0\n",
       "Bradypodidae        NaN\n",
       "Canidae             1.0\n",
       "Caviidae            5.0\n",
       "Cebidae             NaN\n",
       "Cercopithecidae     3.5\n",
       "Cervidae            5.0\n",
       "Chinchillidae       5.0\n",
       "Chlamyphoridae      1.0\n",
       "Circoviridae        5.0\n",
       "Cricetidae          3.0\n",
       "Dasypodidae         2.0\n",
       "Delphinidae         NaN\n",
       "Didelphidae         2.0\n",
       "Elephantidae        3.0\n",
       "Equidae             5.0\n",
       "Erinaceidae         2.0\n",
       "Felidae             1.0\n",
       "Galagidae           2.0\n",
       "Giraffidae          5.0\n",
       "Hominidae           1.0\n",
       "Lemuridae           NaN\n",
       "Lorisidae           2.0\n",
       "Muridae             3.0\n",
       "Nesomyidae          3.0\n",
       "Octodontidae        NaN\n",
       "Otariidae           NaN\n",
       "Phalangeridae       2.0\n",
       "Phocidae            1.0\n",
       "Phocoenidae         NaN\n",
       "Potoroidae          NaN\n",
       "Procaviidae         3.0\n",
       "Procyonidae         2.0\n",
       "Sciuridae           5.0\n",
       "Soricidae           4.5\n",
       "Suidae              4.0\n",
       "Tachyglossidae      2.0\n",
       "Talpidae            2.0\n",
       "Tapiridae           4.0\n",
       "Tenrecidae          2.0\n",
       "Tupaiidae           3.0\n",
       "Vespertilionidae    1.0\n",
       "Viverridae          1.0\n",
       "Name: Predation, dtype: float64"
      ]
     },
     "execution_count": 5,
     "metadata": {},
     "output_type": "execute_result"
    }
   ],
   "source": [
    "df.groupby(by=[\"Family\"])['Predation'].mean()"
   ]
  },
  {
   "cell_type": "code",
   "execution_count": 6,
   "id": "1a515926",
   "metadata": {},
   "outputs": [
    {
     "data": {
      "text/plain": [
       "Family\n",
       "Aotidae             2.000000\n",
       "Aplodontiidae       3.000000\n",
       "Bovidae             5.000000\n",
       "Bradypodidae             NaN\n",
       "Canidae             1.000000\n",
       "Caviidae            4.000000\n",
       "Cebidae                  NaN\n",
       "Cercopithecidae     3.500000\n",
       "Cervidae            5.000000\n",
       "Chinchillidae       4.000000\n",
       "Chlamyphoridae      1.000000\n",
       "Circoviridae        5.000000\n",
       "Cricetidae          2.000000\n",
       "Dasypodidae         1.000000\n",
       "Delphinidae              NaN\n",
       "Didelphidae         1.000000\n",
       "Elephantidae        3.500000\n",
       "Equidae             5.000000\n",
       "Erinaceidae         2.000000\n",
       "Felidae             1.000000\n",
       "Galagidae           2.000000\n",
       "Giraffidae          5.000000\n",
       "Hominidae           1.000000\n",
       "Lemuridae                NaN\n",
       "Lorisidae           2.000000\n",
       "Muridae             2.333333\n",
       "Nesomyidae          3.000000\n",
       "Octodontidae             NaN\n",
       "Otariidae                NaN\n",
       "Phalangeridae       2.000000\n",
       "Phocidae            1.000000\n",
       "Phocoenidae              NaN\n",
       "Potoroidae               NaN\n",
       "Procaviidae         3.000000\n",
       "Procyonidae         2.000000\n",
       "Sciuridae           3.000000\n",
       "Soricidae           3.500000\n",
       "Suidae              4.000000\n",
       "Tachyglossidae      2.000000\n",
       "Talpidae            1.500000\n",
       "Tapiridae           4.000000\n",
       "Tenrecidae          2.000000\n",
       "Tupaiidae           2.000000\n",
       "Vespertilionidae    1.000000\n",
       "Viverridae          1.000000\n",
       "Name: Danger, dtype: float64"
      ]
     },
     "execution_count": 6,
     "metadata": {},
     "output_type": "execute_result"
    }
   ],
   "source": [
    "df.groupby(by=[\"Family\"])['Danger'].mean()"
   ]
  },
  {
   "cell_type": "code",
   "execution_count": 7,
   "id": "75b60f8b",
   "metadata": {},
   "outputs": [
    {
     "data": {
      "text/plain": [
       "Family\n",
       "Aotidae             140.000000\n",
       "Aplodontiidae        45.000000\n",
       "Bovidae             193.333333\n",
       "Bradypodidae               NaN\n",
       "Canidae              58.333333\n",
       "Caviidae             68.000000\n",
       "Cebidae                    NaN\n",
       "Cercopithecidae     181.000000\n",
       "Cervidae            150.000000\n",
       "Chinchillidae       112.000000\n",
       "Chlamyphoridae             NaN\n",
       "Circoviridae         31.000000\n",
       "Cricetidae           16.000000\n",
       "Dasypodidae         120.000000\n",
       "Delphinidae                NaN\n",
       "Didelphidae          13.000000\n",
       "Elephantidae        634.500000\n",
       "Equidae             350.500000\n",
       "Erinaceidae          42.000000\n",
       "Felidae              81.500000\n",
       "Galagidae           120.000000\n",
       "Giraffidae          400.000000\n",
       "Hominidae           249.666667\n",
       "Lemuridae                  NaN\n",
       "Lorisidae            90.000000\n",
       "Muridae              23.333333\n",
       "Nesomyidae           42.000000\n",
       "Octodontidae               NaN\n",
       "Otariidae                  NaN\n",
       "Phalangeridae        17.000000\n",
       "Phocidae            310.000000\n",
       "Phocoenidae                NaN\n",
       "Potoroidae                 NaN\n",
       "Procaviidae         212.500000\n",
       "Procyonidae          63.000000\n",
       "Sciuridae            26.500000\n",
       "Soricidae            25.750000\n",
       "Suidae              115.000000\n",
       "Tachyglossidae       28.000000\n",
       "Talpidae             42.000000\n",
       "Tapiridae           392.000000\n",
       "Tenrecidae           60.000000\n",
       "Tupaiidae            46.000000\n",
       "Vespertilionidae     42.500000\n",
       "Viverridae                 NaN\n",
       "Name: Gestation, dtype: float64"
      ]
     },
     "execution_count": 7,
     "metadata": {},
     "output_type": "execute_result"
    }
   ],
   "source": [
    "df.groupby(by=[\"Family\"])['Gestation'].mean()"
   ]
  },
  {
   "cell_type": "code",
   "execution_count": 8,
   "id": "0eb5aade",
   "metadata": {},
   "outputs": [
    {
     "data": {
      "text/plain": [
       "Family\n",
       "Aotidae             12.000000\n",
       "Aplodontiidae             NaN\n",
       "Bovidae             23.333333\n",
       "Bradypodidae              NaN\n",
       "Canidae             13.333333\n",
       "Caviidae             7.600000\n",
       "Cebidae                   NaN\n",
       "Cercopithecidae     25.050000\n",
       "Cervidae            17.000000\n",
       "Chinchillidae        7.000000\n",
       "Chlamyphoridae       7.000000\n",
       "Circoviridae        18.000000\n",
       "Cricetidae           3.900000\n",
       "Dasypodidae          6.500000\n",
       "Delphinidae               NaN\n",
       "Didelphidae          4.000000\n",
       "Elephantidae        53.800000\n",
       "Equidae             43.000000\n",
       "Erinaceidae          6.000000\n",
       "Felidae             25.200000\n",
       "Galagidae           10.400000\n",
       "Giraffidae          28.000000\n",
       "Hominidae           63.100000\n",
       "Lemuridae                 NaN\n",
       "Lorisidae           12.700000\n",
       "Muridae              3.950000\n",
       "Nesomyidae           4.500000\n",
       "Octodontidae              NaN\n",
       "Otariidae                 NaN\n",
       "Phalangeridae       13.000000\n",
       "Phocidae            41.000000\n",
       "Phocoenidae               NaN\n",
       "Potoroidae                NaN\n",
       "Procaviidae          6.750000\n",
       "Procyonidae         13.700000\n",
       "Sciuridae            9.000000\n",
       "Soricidae            2.300000\n",
       "Suidae              27.000000\n",
       "Tachyglossidae      50.000000\n",
       "Talpidae             3.500000\n",
       "Tapiridae           30.400000\n",
       "Tenrecidae           4.500000\n",
       "Tupaiidae            2.300000\n",
       "Vespertilionidae    21.500000\n",
       "Viverridae          34.000000\n",
       "Name: LifeSpan, dtype: float64"
      ]
     },
     "execution_count": 8,
     "metadata": {},
     "output_type": "execute_result"
    }
   ],
   "source": [
    "df.groupby(by=[\"Family\"])['LifeSpan'].mean()"
   ]
  },
  {
   "cell_type": "code",
   "execution_count": 9,
   "id": "6c9f6f12",
   "metadata": {},
   "outputs": [],
   "source": [
    "y=df.Family.unique().tolist()\n",
    "yy= []\n",
    "for i in y:\n",
    "    if (math.isnan(df.loc[df.Family ==i, :][\"Predation\"].mean())):\n",
    "           yy.append(i)\n"
   ]
  },
  {
   "cell_type": "code",
   "execution_count": 10,
   "id": "f72c8b4f",
   "metadata": {},
   "outputs": [],
   "source": [
    "endanger=set(y)-set(yy)\n"
   ]
  },
  {
   "cell_type": "code",
   "execution_count": 11,
   "id": "9a6b5655",
   "metadata": {},
   "outputs": [],
   "source": [
    "yy1 =[]\n",
    "y1=df.Family.unique().tolist()\n",
    "\n",
    "for i in y1:\n",
    "    if (math.isnan(df.loc[df.Family ==i, :][\"Danger\"].mean())):\n",
    "           yy1.append(i)"
   ]
  },
  {
   "cell_type": "code",
   "execution_count": 12,
   "id": "cb85d7ed",
   "metadata": {},
   "outputs": [],
   "source": [
    "endanger1=set(y1)-set(yy1)"
   ]
  },
  {
   "cell_type": "code",
   "execution_count": 13,
   "id": "ea8a03cc",
   "metadata": {},
   "outputs": [],
   "source": [
    "yy2= []\n",
    "y2=df.Family.unique().tolist()\n",
    "for i in y2:\n",
    "    if (math.isnan(df.loc[df.Family ==i, :][\"Exposure\"].mean())):\n",
    "           yy2.append(i)"
   ]
  },
  {
   "cell_type": "code",
   "execution_count": 14,
   "id": "bd343900",
   "metadata": {},
   "outputs": [],
   "source": [
    "endanger2=set(y2)-set(yy)"
   ]
  },
  {
   "cell_type": "code",
   "execution_count": 15,
   "id": "3688daf3",
   "metadata": {},
   "outputs": [],
   "source": [
    "ff= []\n",
    "f=df.Family.unique().tolist()\n",
    "for i in f:\n",
    "    if (math.isnan(df.loc[df.Family ==i, :][\"Gestation\"].mean())):\n",
    "           ff.append(i)\n"
   ]
  },
  {
   "cell_type": "code",
   "execution_count": 16,
   "id": "b67c4d03",
   "metadata": {},
   "outputs": [],
   "source": [
    "gest=set(f)-set(ff)"
   ]
  },
  {
   "cell_type": "code",
   "execution_count": 17,
   "id": "b21a7050",
   "metadata": {},
   "outputs": [],
   "source": [
    "ll= []\n",
    "l=df.Family.unique().tolist()\n",
    "for i in l:\n",
    "    if (math.isnan(df.loc[df.Family ==i, :][\"LifeSpan\"].mean())):\n",
    "           ll.append(i)"
   ]
  },
  {
   "cell_type": "code",
   "execution_count": 18,
   "id": "44490cfc",
   "metadata": {},
   "outputs": [],
   "source": [
    "life=set(l)-set(ll)"
   ]
  },
  {
   "cell_type": "code",
   "execution_count": 19,
   "id": "fee2dbb9",
   "metadata": {},
   "outputs": [
    {
     "name": "stdout",
     "output_type": "stream",
     "text": [
      "True\n",
      "True\n",
      "True\n",
      "False\n"
     ]
    }
   ],
   "source": [
    "print(endanger==endanger1)\n",
    "print(endanger==endanger2)\n",
    "print(endanger2==endanger1)\n",
    "print(life==gest)"
   ]
  },
  {
   "cell_type": "code",
   "execution_count": 20,
   "id": "0c7dfbd1",
   "metadata": {},
   "outputs": [],
   "source": [
    "for  j in endanger:\n",
    "    \n",
    "    df.loc[df.Family==j,\"Predation\"]=df.loc[df.Family ==j,\"Predation\"].fillna(round(df[(df.Family==j) ][\"Predation\"].mean()))\n",
    "    df.loc[df.Family==j,\"Exposure\"]=df.loc[df.Family ==j,\"Exposure\"].fillna(round(df[(df.Family==j)][\"Exposure\"].mean()))\n",
    "    df.loc[df.Family==j,\"Danger\"]=df.loc[df.Family ==j,\"Danger\"].fillna(round(df[(df.Family==j) ][\"Danger\"].mean()))\n"
   ]
  },
  {
   "cell_type": "code",
   "execution_count": 21,
   "id": "ac71afc7",
   "metadata": {},
   "outputs": [],
   "source": [
    "for  i in gest:\n",
    "    df.loc[df.Family==i,\"Gestation\"]=df.loc[df.Family ==i,\"Gestation\"].fillna(round(df[(df.Family==i) ][\"Gestation\"].mean()))  "
   ]
  },
  {
   "cell_type": "code",
   "execution_count": 22,
   "id": "bae5c78c",
   "metadata": {},
   "outputs": [],
   "source": [
    "for  i in life:\n",
    "    df.loc[df.Family==i,\"LifeSpan\"]=df.loc[df.Family ==i,\"LifeSpan\"].fillna(round(df[(df.Family==i) ][\"LifeSpan\"].mean()))"
   ]
  },
  {
   "cell_type": "code",
   "execution_count": 23,
   "id": "2f188c6b",
   "metadata": {},
   "outputs": [
    {
     "data": {
      "text/html": [
       "<div>\n",
       "<style scoped>\n",
       "    .dataframe tbody tr th:only-of-type {\n",
       "        vertical-align: middle;\n",
       "    }\n",
       "\n",
       "    .dataframe tbody tr th {\n",
       "        vertical-align: top;\n",
       "    }\n",
       "\n",
       "    .dataframe thead th {\n",
       "        text-align: right;\n",
       "    }\n",
       "</style>\n",
       "<table border=\"1\" class=\"dataframe\">\n",
       "  <thead>\n",
       "    <tr style=\"text-align: right;\">\n",
       "      <th></th>\n",
       "      <th>TotalSleep</th>\n",
       "      <th>Vore</th>\n",
       "      <th>BodyWt</th>\n",
       "      <th>LifeSpan</th>\n",
       "      <th>Gestation</th>\n",
       "      <th>Predation</th>\n",
       "      <th>Exposure</th>\n",
       "      <th>Danger</th>\n",
       "    </tr>\n",
       "  </thead>\n",
       "  <tbody>\n",
       "    <tr>\n",
       "      <th>0</th>\n",
       "      <td>7.7</td>\n",
       "      <td>herbi</td>\n",
       "      <td>0.210</td>\n",
       "      <td>NaN</td>\n",
       "      <td>NaN</td>\n",
       "      <td>NaN</td>\n",
       "      <td>NaN</td>\n",
       "      <td>NaN</td>\n",
       "    </tr>\n",
       "    <tr>\n",
       "      <th>1</th>\n",
       "      <td>17.0</td>\n",
       "      <td>omni</td>\n",
       "      <td>0.480</td>\n",
       "      <td>12.0</td>\n",
       "      <td>140.0</td>\n",
       "      <td>2.0</td>\n",
       "      <td>2.0</td>\n",
       "      <td>2.0</td>\n",
       "    </tr>\n",
       "    <tr>\n",
       "      <th>2</th>\n",
       "      <td>14.4</td>\n",
       "      <td>herbi</td>\n",
       "      <td>1.350</td>\n",
       "      <td>NaN</td>\n",
       "      <td>45.0</td>\n",
       "      <td>3.0</td>\n",
       "      <td>1.0</td>\n",
       "      <td>3.0</td>\n",
       "    </tr>\n",
       "    <tr>\n",
       "      <th>3</th>\n",
       "      <td>4.0</td>\n",
       "      <td>herbi</td>\n",
       "      <td>600.000</td>\n",
       "      <td>30.0</td>\n",
       "      <td>281.0</td>\n",
       "      <td>5.0</td>\n",
       "      <td>5.0</td>\n",
       "      <td>5.0</td>\n",
       "    </tr>\n",
       "    <tr>\n",
       "      <th>4</th>\n",
       "      <td>5.3</td>\n",
       "      <td>herbi</td>\n",
       "      <td>33.500</td>\n",
       "      <td>20.0</td>\n",
       "      <td>148.0</td>\n",
       "      <td>5.0</td>\n",
       "      <td>5.0</td>\n",
       "      <td>5.0</td>\n",
       "    </tr>\n",
       "    <tr>\n",
       "      <th>...</th>\n",
       "      <td>...</td>\n",
       "      <td>...</td>\n",
       "      <td>...</td>\n",
       "      <td>...</td>\n",
       "      <td>...</td>\n",
       "      <td>...</td>\n",
       "      <td>...</td>\n",
       "      <td>...</td>\n",
       "    </tr>\n",
       "    <tr>\n",
       "      <th>82</th>\n",
       "      <td>15.6</td>\n",
       "      <td>omni</td>\n",
       "      <td>0.900</td>\n",
       "      <td>4.5</td>\n",
       "      <td>60.0</td>\n",
       "      <td>2.0</td>\n",
       "      <td>1.0</td>\n",
       "      <td>2.0</td>\n",
       "    </tr>\n",
       "    <tr>\n",
       "      <th>83</th>\n",
       "      <td>8.9</td>\n",
       "      <td>omni</td>\n",
       "      <td>0.104</td>\n",
       "      <td>2.3</td>\n",
       "      <td>46.0</td>\n",
       "      <td>3.0</td>\n",
       "      <td>2.0</td>\n",
       "      <td>2.0</td>\n",
       "    </tr>\n",
       "    <tr>\n",
       "      <th>84</th>\n",
       "      <td>19.7</td>\n",
       "      <td>insecti</td>\n",
       "      <td>0.023</td>\n",
       "      <td>19.0</td>\n",
       "      <td>35.0</td>\n",
       "      <td>1.0</td>\n",
       "      <td>1.0</td>\n",
       "      <td>1.0</td>\n",
       "    </tr>\n",
       "    <tr>\n",
       "      <th>85</th>\n",
       "      <td>19.9</td>\n",
       "      <td>insecti</td>\n",
       "      <td>0.010</td>\n",
       "      <td>24.0</td>\n",
       "      <td>50.0</td>\n",
       "      <td>1.0</td>\n",
       "      <td>1.0</td>\n",
       "      <td>1.0</td>\n",
       "    </tr>\n",
       "    <tr>\n",
       "      <th>86</th>\n",
       "      <td>6.3</td>\n",
       "      <td>carni</td>\n",
       "      <td>2.000</td>\n",
       "      <td>34.0</td>\n",
       "      <td>NaN</td>\n",
       "      <td>1.0</td>\n",
       "      <td>2.0</td>\n",
       "      <td>1.0</td>\n",
       "    </tr>\n",
       "  </tbody>\n",
       "</table>\n",
       "<p>87 rows × 8 columns</p>\n",
       "</div>"
      ],
      "text/plain": [
       "    TotalSleep     Vore   BodyWt  LifeSpan  Gestation  Predation  Exposure  \\\n",
       "0          7.7    herbi    0.210       NaN        NaN        NaN       NaN   \n",
       "1         17.0     omni    0.480      12.0      140.0        2.0       2.0   \n",
       "2         14.4    herbi    1.350       NaN       45.0        3.0       1.0   \n",
       "3          4.0    herbi  600.000      30.0      281.0        5.0       5.0   \n",
       "4          5.3    herbi   33.500      20.0      148.0        5.0       5.0   \n",
       "..         ...      ...      ...       ...        ...        ...       ...   \n",
       "82        15.6     omni    0.900       4.5       60.0        2.0       1.0   \n",
       "83         8.9     omni    0.104       2.3       46.0        3.0       2.0   \n",
       "84        19.7  insecti    0.023      19.0       35.0        1.0       1.0   \n",
       "85        19.9  insecti    0.010      24.0       50.0        1.0       1.0   \n",
       "86         6.3    carni    2.000      34.0        NaN        1.0       2.0   \n",
       "\n",
       "    Danger  \n",
       "0      NaN  \n",
       "1      2.0  \n",
       "2      3.0  \n",
       "3      5.0  \n",
       "4      5.0  \n",
       "..     ...  \n",
       "82     2.0  \n",
       "83     2.0  \n",
       "84     1.0  \n",
       "85     1.0  \n",
       "86     1.0  \n",
       "\n",
       "[87 rows x 8 columns]"
      ]
     },
     "execution_count": 23,
     "metadata": {},
     "output_type": "execute_result"
    }
   ],
   "source": [
    "df=df.drop([\"Species\", \"Genus\",\"Order\", \"Family\",\"Conservation\", \"Dreaming\", \"NonDreaming\",\"Awake\",'BrainWt'], axis=1)\n",
    "df"
   ]
  },
  {
   "cell_type": "code",
   "execution_count": 24,
   "id": "a5aa485b",
   "metadata": {},
   "outputs": [
    {
     "data": {
      "text/plain": [
       "(0, 2, 6, 12, 19, 29, 30, 50, 59, 63, 64, 86)"
      ]
     },
     "execution_count": 24,
     "metadata": {},
     "output_type": "execute_result"
    }
   ],
   "source": [
    "0, 2, 6, 12, 19, 29, 30, 50, 59, 63, 64, 86"
   ]
  },
  {
   "cell_type": "code",
   "execution_count": 25,
   "id": "62fd9168",
   "metadata": {},
   "outputs": [
    {
     "data": {
      "text/plain": [
       "Index([0, 2, 6, 12, 19, 29, 30, 50, 59, 63, 64, 86], dtype='int64')"
      ]
     },
     "execution_count": 25,
     "metadata": {},
     "output_type": "execute_result"
    }
   ],
   "source": [
    "index_with_nan = df.index[df.isnull().any(axis=1)]\n",
    "index_with_nan"
   ]
  },
  {
   "cell_type": "code",
   "execution_count": 26,
   "id": "865db995",
   "metadata": {},
   "outputs": [
    {
     "data": {
      "text/html": [
       "<div>\n",
       "<style scoped>\n",
       "    .dataframe tbody tr th:only-of-type {\n",
       "        vertical-align: middle;\n",
       "    }\n",
       "\n",
       "    .dataframe tbody tr th {\n",
       "        vertical-align: top;\n",
       "    }\n",
       "\n",
       "    .dataframe thead th {\n",
       "        text-align: right;\n",
       "    }\n",
       "</style>\n",
       "<table border=\"1\" class=\"dataframe\">\n",
       "  <thead>\n",
       "    <tr style=\"text-align: right;\">\n",
       "      <th></th>\n",
       "      <th>TotalSleep</th>\n",
       "      <th>Vore</th>\n",
       "      <th>BodyWt</th>\n",
       "      <th>LifeSpan</th>\n",
       "      <th>Gestation</th>\n",
       "      <th>Predation</th>\n",
       "      <th>Exposure</th>\n",
       "      <th>Danger</th>\n",
       "    </tr>\n",
       "  </thead>\n",
       "  <tbody>\n",
       "    <tr>\n",
       "      <th>0</th>\n",
       "      <td>7.7</td>\n",
       "      <td>herbi</td>\n",
       "      <td>0.210</td>\n",
       "      <td>NaN</td>\n",
       "      <td>NaN</td>\n",
       "      <td>NaN</td>\n",
       "      <td>NaN</td>\n",
       "      <td>NaN</td>\n",
       "    </tr>\n",
       "    <tr>\n",
       "      <th>2</th>\n",
       "      <td>14.4</td>\n",
       "      <td>herbi</td>\n",
       "      <td>1.350</td>\n",
       "      <td>NaN</td>\n",
       "      <td>45.0</td>\n",
       "      <td>3.0</td>\n",
       "      <td>1.0</td>\n",
       "      <td>3.0</td>\n",
       "    </tr>\n",
       "    <tr>\n",
       "      <th>6</th>\n",
       "      <td>14.4</td>\n",
       "      <td>herbi</td>\n",
       "      <td>3.850</td>\n",
       "      <td>NaN</td>\n",
       "      <td>NaN</td>\n",
       "      <td>NaN</td>\n",
       "      <td>NaN</td>\n",
       "      <td>NaN</td>\n",
       "    </tr>\n",
       "    <tr>\n",
       "      <th>12</th>\n",
       "      <td>9.6</td>\n",
       "      <td>omni</td>\n",
       "      <td>0.743</td>\n",
       "      <td>NaN</td>\n",
       "      <td>NaN</td>\n",
       "      <td>NaN</td>\n",
       "      <td>NaN</td>\n",
       "      <td>NaN</td>\n",
       "    </tr>\n",
       "    <tr>\n",
       "      <th>19</th>\n",
       "      <td>18.1</td>\n",
       "      <td>insecti</td>\n",
       "      <td>60.000</td>\n",
       "      <td>7.0</td>\n",
       "      <td>NaN</td>\n",
       "      <td>1.0</td>\n",
       "      <td>1.0</td>\n",
       "      <td>1.0</td>\n",
       "    </tr>\n",
       "    <tr>\n",
       "      <th>29</th>\n",
       "      <td>2.7</td>\n",
       "      <td>carni</td>\n",
       "      <td>800.000</td>\n",
       "      <td>NaN</td>\n",
       "      <td>NaN</td>\n",
       "      <td>NaN</td>\n",
       "      <td>NaN</td>\n",
       "      <td>NaN</td>\n",
       "    </tr>\n",
       "    <tr>\n",
       "      <th>30</th>\n",
       "      <td>5.2</td>\n",
       "      <td>carni</td>\n",
       "      <td>173.330</td>\n",
       "      <td>NaN</td>\n",
       "      <td>NaN</td>\n",
       "      <td>NaN</td>\n",
       "      <td>NaN</td>\n",
       "      <td>NaN</td>\n",
       "    </tr>\n",
       "    <tr>\n",
       "      <th>50</th>\n",
       "      <td>9.5</td>\n",
       "      <td>herbi</td>\n",
       "      <td>1.670</td>\n",
       "      <td>NaN</td>\n",
       "      <td>NaN</td>\n",
       "      <td>NaN</td>\n",
       "      <td>NaN</td>\n",
       "      <td>NaN</td>\n",
       "    </tr>\n",
       "    <tr>\n",
       "      <th>59</th>\n",
       "      <td>8.7</td>\n",
       "      <td>carni</td>\n",
       "      <td>20.490</td>\n",
       "      <td>NaN</td>\n",
       "      <td>NaN</td>\n",
       "      <td>NaN</td>\n",
       "      <td>NaN</td>\n",
       "      <td>NaN</td>\n",
       "    </tr>\n",
       "    <tr>\n",
       "      <th>63</th>\n",
       "      <td>5.6</td>\n",
       "      <td>carni</td>\n",
       "      <td>53.180</td>\n",
       "      <td>NaN</td>\n",
       "      <td>NaN</td>\n",
       "      <td>NaN</td>\n",
       "      <td>NaN</td>\n",
       "      <td>NaN</td>\n",
       "    </tr>\n",
       "    <tr>\n",
       "      <th>64</th>\n",
       "      <td>11.1</td>\n",
       "      <td>herbi</td>\n",
       "      <td>1.100</td>\n",
       "      <td>NaN</td>\n",
       "      <td>NaN</td>\n",
       "      <td>NaN</td>\n",
       "      <td>NaN</td>\n",
       "      <td>NaN</td>\n",
       "    </tr>\n",
       "    <tr>\n",
       "      <th>86</th>\n",
       "      <td>6.3</td>\n",
       "      <td>carni</td>\n",
       "      <td>2.000</td>\n",
       "      <td>34.0</td>\n",
       "      <td>NaN</td>\n",
       "      <td>1.0</td>\n",
       "      <td>2.0</td>\n",
       "      <td>1.0</td>\n",
       "    </tr>\n",
       "  </tbody>\n",
       "</table>\n",
       "</div>"
      ],
      "text/plain": [
       "    TotalSleep     Vore   BodyWt  LifeSpan  Gestation  Predation  Exposure  \\\n",
       "0          7.7    herbi    0.210       NaN        NaN        NaN       NaN   \n",
       "2         14.4    herbi    1.350       NaN       45.0        3.0       1.0   \n",
       "6         14.4    herbi    3.850       NaN        NaN        NaN       NaN   \n",
       "12         9.6     omni    0.743       NaN        NaN        NaN       NaN   \n",
       "19        18.1  insecti   60.000       7.0        NaN        1.0       1.0   \n",
       "29         2.7    carni  800.000       NaN        NaN        NaN       NaN   \n",
       "30         5.2    carni  173.330       NaN        NaN        NaN       NaN   \n",
       "50         9.5    herbi    1.670       NaN        NaN        NaN       NaN   \n",
       "59         8.7    carni   20.490       NaN        NaN        NaN       NaN   \n",
       "63         5.6    carni   53.180       NaN        NaN        NaN       NaN   \n",
       "64        11.1    herbi    1.100       NaN        NaN        NaN       NaN   \n",
       "86         6.3    carni    2.000      34.0        NaN        1.0       2.0   \n",
       "\n",
       "    Danger  \n",
       "0      NaN  \n",
       "2      3.0  \n",
       "6      NaN  \n",
       "12     NaN  \n",
       "19     1.0  \n",
       "29     NaN  \n",
       "30     NaN  \n",
       "50     NaN  \n",
       "59     NaN  \n",
       "63     NaN  \n",
       "64     NaN  \n",
       "86     1.0  "
      ]
     },
     "execution_count": 26,
     "metadata": {},
     "output_type": "execute_result"
    }
   ],
   "source": [
    "df.loc[index_with_nan,:]"
   ]
  },
  {
   "cell_type": "code",
   "execution_count": 27,
   "id": "2ab8bbdc",
   "metadata": {},
   "outputs": [
    {
     "data": {
      "text/html": [
       "<div>\n",
       "<style scoped>\n",
       "    .dataframe tbody tr th:only-of-type {\n",
       "        vertical-align: middle;\n",
       "    }\n",
       "\n",
       "    .dataframe tbody tr th {\n",
       "        vertical-align: top;\n",
       "    }\n",
       "\n",
       "    .dataframe thead th {\n",
       "        text-align: right;\n",
       "    }\n",
       "</style>\n",
       "<table border=\"1\" class=\"dataframe\">\n",
       "  <thead>\n",
       "    <tr style=\"text-align: right;\">\n",
       "      <th></th>\n",
       "      <th>TotalSleep</th>\n",
       "      <th>Vore</th>\n",
       "      <th>BodyWt</th>\n",
       "      <th>LifeSpan</th>\n",
       "      <th>Gestation</th>\n",
       "      <th>Predation</th>\n",
       "      <th>Exposure</th>\n",
       "      <th>Danger</th>\n",
       "    </tr>\n",
       "  </thead>\n",
       "  <tbody>\n",
       "    <tr>\n",
       "      <th>0</th>\n",
       "      <td>17.0</td>\n",
       "      <td>omni</td>\n",
       "      <td>0.480</td>\n",
       "      <td>12.0</td>\n",
       "      <td>140.0</td>\n",
       "      <td>2.0</td>\n",
       "      <td>2.0</td>\n",
       "      <td>2.0</td>\n",
       "    </tr>\n",
       "    <tr>\n",
       "      <th>1</th>\n",
       "      <td>4.0</td>\n",
       "      <td>herbi</td>\n",
       "      <td>600.000</td>\n",
       "      <td>30.0</td>\n",
       "      <td>281.0</td>\n",
       "      <td>5.0</td>\n",
       "      <td>5.0</td>\n",
       "      <td>5.0</td>\n",
       "    </tr>\n",
       "    <tr>\n",
       "      <th>2</th>\n",
       "      <td>5.3</td>\n",
       "      <td>herbi</td>\n",
       "      <td>33.500</td>\n",
       "      <td>20.0</td>\n",
       "      <td>148.0</td>\n",
       "      <td>5.0</td>\n",
       "      <td>5.0</td>\n",
       "      <td>5.0</td>\n",
       "    </tr>\n",
       "    <tr>\n",
       "      <th>3</th>\n",
       "      <td>3.8</td>\n",
       "      <td>herbi</td>\n",
       "      <td>55.500</td>\n",
       "      <td>20.0</td>\n",
       "      <td>151.0</td>\n",
       "      <td>5.0</td>\n",
       "      <td>5.0</td>\n",
       "      <td>5.0</td>\n",
       "    </tr>\n",
       "    <tr>\n",
       "      <th>4</th>\n",
       "      <td>10.1</td>\n",
       "      <td>carni</td>\n",
       "      <td>14.000</td>\n",
       "      <td>13.0</td>\n",
       "      <td>58.0</td>\n",
       "      <td>1.0</td>\n",
       "      <td>1.0</td>\n",
       "      <td>1.0</td>\n",
       "    </tr>\n",
       "    <tr>\n",
       "      <th>...</th>\n",
       "      <td>...</td>\n",
       "      <td>...</td>\n",
       "      <td>...</td>\n",
       "      <td>...</td>\n",
       "      <td>...</td>\n",
       "      <td>...</td>\n",
       "      <td>...</td>\n",
       "      <td>...</td>\n",
       "    </tr>\n",
       "    <tr>\n",
       "      <th>70</th>\n",
       "      <td>4.4</td>\n",
       "      <td>herbi</td>\n",
       "      <td>207.501</td>\n",
       "      <td>30.4</td>\n",
       "      <td>392.0</td>\n",
       "      <td>4.0</td>\n",
       "      <td>5.0</td>\n",
       "      <td>4.0</td>\n",
       "    </tr>\n",
       "    <tr>\n",
       "      <th>71</th>\n",
       "      <td>15.6</td>\n",
       "      <td>omni</td>\n",
       "      <td>0.900</td>\n",
       "      <td>4.5</td>\n",
       "      <td>60.0</td>\n",
       "      <td>2.0</td>\n",
       "      <td>1.0</td>\n",
       "      <td>2.0</td>\n",
       "    </tr>\n",
       "    <tr>\n",
       "      <th>72</th>\n",
       "      <td>8.9</td>\n",
       "      <td>omni</td>\n",
       "      <td>0.104</td>\n",
       "      <td>2.3</td>\n",
       "      <td>46.0</td>\n",
       "      <td>3.0</td>\n",
       "      <td>2.0</td>\n",
       "      <td>2.0</td>\n",
       "    </tr>\n",
       "    <tr>\n",
       "      <th>73</th>\n",
       "      <td>19.7</td>\n",
       "      <td>insecti</td>\n",
       "      <td>0.023</td>\n",
       "      <td>19.0</td>\n",
       "      <td>35.0</td>\n",
       "      <td>1.0</td>\n",
       "      <td>1.0</td>\n",
       "      <td>1.0</td>\n",
       "    </tr>\n",
       "    <tr>\n",
       "      <th>74</th>\n",
       "      <td>19.9</td>\n",
       "      <td>insecti</td>\n",
       "      <td>0.010</td>\n",
       "      <td>24.0</td>\n",
       "      <td>50.0</td>\n",
       "      <td>1.0</td>\n",
       "      <td>1.0</td>\n",
       "      <td>1.0</td>\n",
       "    </tr>\n",
       "  </tbody>\n",
       "</table>\n",
       "<p>75 rows × 8 columns</p>\n",
       "</div>"
      ],
      "text/plain": [
       "    TotalSleep     Vore   BodyWt  LifeSpan  Gestation  Predation  Exposure  \\\n",
       "0         17.0     omni    0.480      12.0      140.0        2.0       2.0   \n",
       "1          4.0    herbi  600.000      30.0      281.0        5.0       5.0   \n",
       "2          5.3    herbi   33.500      20.0      148.0        5.0       5.0   \n",
       "3          3.8    herbi   55.500      20.0      151.0        5.0       5.0   \n",
       "4         10.1    carni   14.000      13.0       58.0        1.0       1.0   \n",
       "..         ...      ...      ...       ...        ...        ...       ...   \n",
       "70         4.4    herbi  207.501      30.4      392.0        4.0       5.0   \n",
       "71        15.6     omni    0.900       4.5       60.0        2.0       1.0   \n",
       "72         8.9     omni    0.104       2.3       46.0        3.0       2.0   \n",
       "73        19.7  insecti    0.023      19.0       35.0        1.0       1.0   \n",
       "74        19.9  insecti    0.010      24.0       50.0        1.0       1.0   \n",
       "\n",
       "    Danger  \n",
       "0      2.0  \n",
       "1      5.0  \n",
       "2      5.0  \n",
       "3      5.0  \n",
       "4      1.0  \n",
       "..     ...  \n",
       "70     4.0  \n",
       "71     2.0  \n",
       "72     2.0  \n",
       "73     1.0  \n",
       "74     1.0  \n",
       "\n",
       "[75 rows x 8 columns]"
      ]
     },
     "execution_count": 27,
     "metadata": {},
     "output_type": "execute_result"
    }
   ],
   "source": [
    "df.drop(index_with_nan, inplace=True)\n",
    "df.reset_index(drop=True,inplace=True)\n",
    "df"
   ]
  },
  {
   "cell_type": "code",
   "execution_count": 28,
   "id": "b7137577",
   "metadata": {},
   "outputs": [
    {
     "data": {
      "image/png": "[encoded data removed]",
      "text/plain": [
       "<Figure size 640x480 with 1 Axes>"
      ]
     },
     "metadata": {},
     "output_type": "display_data"
    }
   ],
   "source": [
    "plt.pie(df.Vore.value_counts(),labels=df.Vore.value_counts().index,autopct='%1.2f%%')\n",
    "plt.show()"
   ]
  },
  {
   "cell_type": "code",
   "execution_count": 29,
   "id": "97d80332",
   "metadata": {},
   "outputs": [
    {
     "data": {
      "text/plain": [
       "Text(0, 0.5, 'TotalSleep')"
      ]
     },
     "execution_count": 29,
     "metadata": {},
     "output_type": "execute_result"
    },
    {
     "data": {
      "image/png": "[encoded data removed]",
      "text/plain": [
       "<Figure size 640x480 with 1 Axes>"
      ]
     },
     "metadata": {},
     "output_type": "display_data"
    }
   ],
   "source": [
    "sns.regplot(x=df[\"LifeSpan\"], y=df[\"TotalSleep\"], data=df)\n",
    "plt.ylim(0,)\n",
    "plt.title(\"LifeSpan vs TotalSleep\")\n",
    "plt.xlabel(\"LifeSpan\")\n",
    "plt.ylabel(\"TotalSleep\")"
   ]
  },
  {
   "cell_type": "code",
   "execution_count": 30,
   "id": "d1146206",
   "metadata": {},
   "outputs": [
    {
     "data": {
      "text/plain": [
       "Text(0, 0.5, 'TotalSleep')"
      ]
     },
     "execution_count": 30,
     "metadata": {},
     "output_type": "execute_result"
    },
    {
     "data": {
      "image/png": "[encoded data removed]",
      "text/plain": [
       "<Figure size 640x480 with 1 Axes>"
      ]
     },
     "metadata": {},
     "output_type": "display_data"
    }
   ],
   "source": [
    "sns.regplot(x=df[\"Gestation\"], y=df[\"TotalSleep\"], data=df)\n",
    "plt.ylim(0,)\n",
    "plt.title(\"LifeSpan vs TotalSleep\")\n",
    "plt.xlabel(\"LifeSpan\")\n",
    "plt.ylabel(\"TotalSleep\")"
   ]
  },
  {
   "cell_type": "code",
   "execution_count": 31,
   "id": "fc3fd40e",
   "metadata": {},
   "outputs": [],
   "source": [
    "df = pd.concat([df,pd.get_dummies(df.Vore, dtype=int)],axis=1).drop(columns=\"Vore\")\n"
   ]
  },
  {
   "cell_type": "code",
   "execution_count": 161,
   "id": "38479f1f",
   "metadata": {},
   "outputs": [],
   "source": [
    "from sklearn.model_selection import train_test_split"
   ]
  },
  {
   "cell_type": "code",
   "execution_count": 162,
   "id": "b4d5d5c7",
   "metadata": {},
   "outputs": [],
   "source": [
    "df_train, df_test = train_test_split(df,test_size = 0.40, random_state=1031)"
   ]
  },
  {
   "cell_type": "code",
   "execution_count": 163,
   "id": "49b8f623",
   "metadata": {},
   "outputs": [],
   "source": [
    "X_train = df_train.loc[:,['Danger','Predation','Gestation', 'Exposure','BodyWt','omni','herbi','carni','insecti','LifeSpan']].values\n",
    "y_train = df_train.TotalSleep.values\n"
   ]
  },
  {
   "cell_type": "code",
   "execution_count": 164,
   "id": "f9cce08e",
   "metadata": {},
   "outputs": [],
   "source": [
    "X_test = df_test.loc[:,['Danger','Predation','Gestation', 'Exposure','BodyWt','omni','herbi','carni','insecti','LifeSpan']].values\n",
    "y_test = df_test.TotalSleep.values"
   ]
  },
  {
   "cell_type": "code",
   "execution_count": 165,
   "id": "096ee713",
   "metadata": {},
   "outputs": [],
   "source": [
    "from sklearn.linear_model import LinearRegression"
   ]
  },
  {
   "cell_type": "code",
   "execution_count": 166,
   "id": "0a11ebee",
   "metadata": {},
   "outputs": [
    {
     "data": {
      "text/html": [
       "<style>#sk-container-id-14 {color: black;}#sk-container-id-14 pre{padding: 0;}#sk-container-id-14 div.sk-toggleable {background-color: white;}#sk-container-id-14 label.sk-toggleable__label {cursor: pointer;display: block;width: 100%;margin-bottom: 0;padding: 0.3em;box-sizing: border-box;text-align: center;}#sk-container-id-14 label.sk-toggleable__label-arrow:before {content: \"▸\";float: left;margin-right: 0.25em;color: #696969;}#sk-container-id-14 label.sk-toggleable__label-arrow:hover:before {color: black;}#sk-container-id-14 div.sk-estimator:hover label.sk-toggleable__label-arrow:before {color: black;}#sk-container-id-14 div.sk-toggleable__content {max-height: 0;max-width: 0;overflow: hidden;text-align: left;background-color: #f0f8ff;}#sk-container-id-14 div.sk-toggleable__content pre {margin: 0.2em;color: black;border-radius: 0.25em;background-color: #f0f8ff;}#sk-container-id-14 input.sk-toggleable__control:checked~div.sk-toggleable__content {max-height: 200px;max-width: 100%;overflow: auto;}#sk-container-id-14 input.sk-toggleable__control:checked~label.sk-toggleable__label-arrow:before {content: \"▾\";}#sk-container-id-14 div.sk-estimator input.sk-toggleable__control:checked~label.sk-toggleable__label {background-color: #d4ebff;}#sk-container-id-14 div.sk-label input.sk-toggleable__control:checked~label.sk-toggleable__label {background-color: #d4ebff;}#sk-container-id-14 input.sk-hidden--visually {border: 0;clip: rect(1px 1px 1px 1px);clip: rect(1px, 1px, 1px, 1px);height: 1px;margin: -1px;overflow: hidden;padding: 0;position: absolute;width: 1px;}#sk-container-id-14 div.sk-estimator {font-family: monospace;background-color: #f0f8ff;border: 1px dotted black;border-radius: 0.25em;box-sizing: border-box;margin-bottom: 0.5em;}#sk-container-id-14 div.sk-estimator:hover {background-color: #d4ebff;}#sk-container-id-14 div.sk-parallel-item::after {content: \"\";width: 100%;border-bottom: 1px solid gray;flex-grow: 1;}#sk-container-id-14 div.sk-label:hover label.sk-toggleable__label {background-color: #d4ebff;}#sk-container-id-14 div.sk-serial::before {content: \"\";position: absolute;border-left: 1px solid gray;box-sizing: border-box;top: 0;bottom: 0;left: 50%;z-index: 0;}#sk-container-id-14 div.sk-serial {display: flex;flex-direction: column;align-items: center;background-color: white;padding-right: 0.2em;padding-left: 0.2em;position: relative;}#sk-container-id-14 div.sk-item {position: relative;z-index: 1;}#sk-container-id-14 div.sk-parallel {display: flex;align-items: stretch;justify-content: center;background-color: white;position: relative;}#sk-container-id-14 div.sk-item::before, #sk-container-id-14 div.sk-parallel-item::before {content: \"\";position: absolute;border-left: 1px solid gray;box-sizing: border-box;top: 0;bottom: 0;left: 50%;z-index: -1;}#sk-container-id-14 div.sk-parallel-item {display: flex;flex-direction: column;z-index: 1;position: relative;background-color: white;}#sk-container-id-14 div.sk-parallel-item:first-child::after {align-self: flex-end;width: 50%;}#sk-container-id-14 div.sk-parallel-item:last-child::after {align-self: flex-start;width: 50%;}#sk-container-id-14 div.sk-parallel-item:only-child::after {width: 0;}#sk-container-id-14 div.sk-dashed-wrapped {border: 1px dashed gray;margin: 0 0.4em 0.5em 0.4em;box-sizing: border-box;padding-bottom: 0.4em;background-color: white;}#sk-container-id-14 div.sk-label label {font-family: monospace;font-weight: bold;display: inline-block;line-height: 1.2em;}#sk-container-id-14 div.sk-label-container {text-align: center;}#sk-container-id-14 div.sk-container {/* jupyter's `normalize.less` sets `[hidden] { display: none; }` but bootstrap.min.css set `[hidden] { display: none !important; }` so we also need the `!important` here to be able to override the default hidden behavior on the sphinx rendered scikit-learn.org. See: https://github.com/scikit-learn/scikit-learn/issues/21755 */display: inline-block !important;position: relative;}#sk-container-id-14 div.sk-text-repr-fallback {display: none;}</style><div id=\"sk-container-id-14\" class=\"sk-top-container\"><div class=\"sk-text-repr-fallback\"><pre>LinearRegression()</pre><b>In a Jupyter environment, please rerun this cell to show the HTML representation or trust the notebook. <br />On GitHub, the HTML representation is unable to render, please try loading this page with nbviewer.org.</b></div><div class=\"sk-container\" hidden><div class=\"sk-item\"><div class=\"sk-estimator sk-toggleable\"><input class=\"sk-toggleable__control sk-hidden--visually\" id=\"sk-estimator-id-14\" type=\"checkbox\" checked><label for=\"sk-estimator-id-14\" class=\"sk-toggleable__label sk-toggleable__label-arrow\">LinearRegression</label><div class=\"sk-toggleable__content\"><pre>LinearRegression()</pre></div></div></div></div></div>"
      ],
      "text/plain": [
       "LinearRegression()"
      ]
     },
     "execution_count": 166,
     "metadata": {},
     "output_type": "execute_result"
    }
   ],
   "source": [
    "x=LinearRegression()\n",
    "x.fit(X_train, y_train)"
   ]
  },
  {
   "cell_type": "code",
   "execution_count": 167,
   "id": "3b69d4a1",
   "metadata": {},
   "outputs": [],
   "source": [
    "y_test_predicted =  x.predict(X_test)"
   ]
  },
  {
   "cell_type": "code",
   "execution_count": 168,
   "id": "da1c4fe4",
   "metadata": {},
   "outputs": [],
   "source": [
    "\n",
    "from sklearn.metrics import mean_squared_error, r2_score"
   ]
  },
  {
   "cell_type": "code",
   "execution_count": 169,
   "id": "f786e493",
   "metadata": {},
   "outputs": [
    {
     "name": "stdout",
     "output_type": "stream",
     "text": [
      "Mean squared error: 6.91\n",
      "Coefficient of determination: 0.42\n"
     ]
    }
   ],
   "source": [
    "print(\"Mean squared error: %.2f\" % mean_squared_error(y_test, y_test_predicted))\n",
    "\n",
    "print(\"Coefficient of determination: %.2f\" % r2_score(y_test, y_test_predicted))"
   ]
  },
  {
   "cell_type": "code",
   "execution_count": 170,
   "id": "860f3a77",
   "metadata": {},
   "outputs": [
    {
     "data": {
      "text/plain": [
       "15.230748293125107"
      ]
     },
     "execution_count": 170,
     "metadata": {},
     "output_type": "execute_result"
    }
   ],
   "source": [
    "x.intercept_"
   ]
  },
  {
   "cell_type": "code",
   "execution_count": 131,
   "id": "fb51a5ad",
   "metadata": {},
   "outputs": [
    {
     "data": {
      "text/plain": [
       "array([-2.97267737e+00,  1.69909300e+00, -1.87105042e-02,  5.90549109e-02,\n",
       "        6.73466000e-04,  2.40997411e-01, -1.02865138e+00, -2.58205996e-01,\n",
       "        1.04585997e+00, -2.91983122e-03])"
      ]
     },
     "execution_count": 131,
     "metadata": {},
     "output_type": "execute_result"
    }
   ],
   "source": [
    "x.coef_"
   ]
  },
  {
   "cell_type": "code",
   "execution_count": 132,
   "id": "074ff859",
   "metadata": {},
   "outputs": [
    {
     "data": {
      "text/plain": [
       "('Danger',\n",
       " 'Predation',\n",
       " 'Gestation',\n",
       " 'Exposure',\n",
       " 'BodyWt',\n",
       " 'omni',\n",
       " 'herbi',\n",
       " 'carni',\n",
       " 'insecti',\n",
       " 'LifeSpan')"
      ]
     },
     "execution_count": 132,
     "metadata": {},
     "output_type": "execute_result"
    }
   ],
   "source": [
    "'Danger','Predation','Gestation', 'Exposure','BodyWt','omni','herbi','carni','insecti','LifeSpan'"
   ]
  },
  {
   "cell_type": "code",
   "execution_count": 171,
   "id": "2617359e",
   "metadata": {},
   "outputs": [],
   "source": [
    "from sklearn.model_selection import train_test_split"
   ]
  },
  {
   "cell_type": "code",
   "execution_count": 172,
   "id": "bbc27426",
   "metadata": {},
   "outputs": [],
   "source": [
    "df_train, df_test = train_test_split(df,test_size = 0.40, random_state=1013)"
   ]
  },
  {
   "cell_type": "code",
   "execution_count": 173,
   "id": "5bbbf8d3",
   "metadata": {},
   "outputs": [],
   "source": [
    "X_train = df_train.loc[:,['Danger','Predation','Gestation', 'Exposure','omni','herbi','carni','insecti']].values\n",
    "y_train = df_train.TotalSleep.values\n"
   ]
  },
  {
   "cell_type": "code",
   "execution_count": 174,
   "id": "4f4d3223",
   "metadata": {},
   "outputs": [],
   "source": [
    "X_test = df_test.loc[:,['Danger','Predation','Gestation', 'Exposure','omni','herbi','carni','insecti']].values\n",
    "y_test = df_test.TotalSleep.values"
   ]
  },
  {
   "cell_type": "code",
   "execution_count": 175,
   "id": "fd5ca0e3",
   "metadata": {},
   "outputs": [],
   "source": [
    "from sklearn.linear_model import LinearRegression"
   ]
  },
  {
   "cell_type": "code",
   "execution_count": 176,
   "id": "032c92de",
   "metadata": {},
   "outputs": [
    {
     "data": {
      "text/html": [
       "<style>#sk-container-id-15 {color: black;}#sk-container-id-15 pre{padding: 0;}#sk-container-id-15 div.sk-toggleable {background-color: white;}#sk-container-id-15 label.sk-toggleable__label {cursor: pointer;display: block;width: 100%;margin-bottom: 0;padding: 0.3em;box-sizing: border-box;text-align: center;}#sk-container-id-15 label.sk-toggleable__label-arrow:before {content: \"▸\";float: left;margin-right: 0.25em;color: #696969;}#sk-container-id-15 label.sk-toggleable__label-arrow:hover:before {color: black;}#sk-container-id-15 div.sk-estimator:hover label.sk-toggleable__label-arrow:before {color: black;}#sk-container-id-15 div.sk-toggleable__content {max-height: 0;max-width: 0;overflow: hidden;text-align: left;background-color: #f0f8ff;}#sk-container-id-15 div.sk-toggleable__content pre {margin: 0.2em;color: black;border-radius: 0.25em;background-color: #f0f8ff;}#sk-container-id-15 input.sk-toggleable__control:checked~div.sk-toggleable__content {max-height: 200px;max-width: 100%;overflow: auto;}#sk-container-id-15 input.sk-toggleable__control:checked~label.sk-toggleable__label-arrow:before {content: \"▾\";}#sk-container-id-15 div.sk-estimator input.sk-toggleable__control:checked~label.sk-toggleable__label {background-color: #d4ebff;}#sk-container-id-15 div.sk-label input.sk-toggleable__control:checked~label.sk-toggleable__label {background-color: #d4ebff;}#sk-container-id-15 input.sk-hidden--visually {border: 0;clip: rect(1px 1px 1px 1px);clip: rect(1px, 1px, 1px, 1px);height: 1px;margin: -1px;overflow: hidden;padding: 0;position: absolute;width: 1px;}#sk-container-id-15 div.sk-estimator {font-family: monospace;background-color: #f0f8ff;border: 1px dotted black;border-radius: 0.25em;box-sizing: border-box;margin-bottom: 0.5em;}#sk-container-id-15 div.sk-estimator:hover {background-color: #d4ebff;}#sk-container-id-15 div.sk-parallel-item::after {content: \"\";width: 100%;border-bottom: 1px solid gray;flex-grow: 1;}#sk-container-id-15 div.sk-label:hover label.sk-toggleable__label {background-color: #d4ebff;}#sk-container-id-15 div.sk-serial::before {content: \"\";position: absolute;border-left: 1px solid gray;box-sizing: border-box;top: 0;bottom: 0;left: 50%;z-index: 0;}#sk-container-id-15 div.sk-serial {display: flex;flex-direction: column;align-items: center;background-color: white;padding-right: 0.2em;padding-left: 0.2em;position: relative;}#sk-container-id-15 div.sk-item {position: relative;z-index: 1;}#sk-container-id-15 div.sk-parallel {display: flex;align-items: stretch;justify-content: center;background-color: white;position: relative;}#sk-container-id-15 div.sk-item::before, #sk-container-id-15 div.sk-parallel-item::before {content: \"\";position: absolute;border-left: 1px solid gray;box-sizing: border-box;top: 0;bottom: 0;left: 50%;z-index: -1;}#sk-container-id-15 div.sk-parallel-item {display: flex;flex-direction: column;z-index: 1;position: relative;background-color: white;}#sk-container-id-15 div.sk-parallel-item:first-child::after {align-self: flex-end;width: 50%;}#sk-container-id-15 div.sk-parallel-item:last-child::after {align-self: flex-start;width: 50%;}#sk-container-id-15 div.sk-parallel-item:only-child::after {width: 0;}#sk-container-id-15 div.sk-dashed-wrapped {border: 1px dashed gray;margin: 0 0.4em 0.5em 0.4em;box-sizing: border-box;padding-bottom: 0.4em;background-color: white;}#sk-container-id-15 div.sk-label label {font-family: monospace;font-weight: bold;display: inline-block;line-height: 1.2em;}#sk-container-id-15 div.sk-label-container {text-align: center;}#sk-container-id-15 div.sk-container {/* jupyter's `normalize.less` sets `[hidden] { display: none; }` but bootstrap.min.css set `[hidden] { display: none !important; }` so we also need the `!important` here to be able to override the default hidden behavior on the sphinx rendered scikit-learn.org. See: https://github.com/scikit-learn/scikit-learn/issues/21755 */display: inline-block !important;position: relative;}#sk-container-id-15 div.sk-text-repr-fallback {display: none;}</style><div id=\"sk-container-id-15\" class=\"sk-top-container\"><div class=\"sk-text-repr-fallback\"><pre>LinearRegression()</pre><b>In a Jupyter environment, please rerun this cell to show the HTML representation or trust the notebook. <br />On GitHub, the HTML representation is unable to render, please try loading this page with nbviewer.org.</b></div><div class=\"sk-container\" hidden><div class=\"sk-item\"><div class=\"sk-estimator sk-toggleable\"><input class=\"sk-toggleable__control sk-hidden--visually\" id=\"sk-estimator-id-15\" type=\"checkbox\" checked><label for=\"sk-estimator-id-15\" class=\"sk-toggleable__label sk-toggleable__label-arrow\">LinearRegression</label><div class=\"sk-toggleable__content\"><pre>LinearRegression()</pre></div></div></div></div></div>"
      ],
      "text/plain": [
       "LinearRegression()"
      ]
     },
     "execution_count": 176,
     "metadata": {},
     "output_type": "execute_result"
    }
   ],
   "source": [
    "x=LinearRegression()\n",
    "x.fit(X_train, y_train)"
   ]
  },
  {
   "cell_type": "code",
   "execution_count": 177,
   "id": "f7e43037",
   "metadata": {},
   "outputs": [],
   "source": [
    "y_test_predicted1=  x.predict(X_test)"
   ]
  },
  {
   "cell_type": "code",
   "execution_count": 178,
   "id": "ba2eaec9",
   "metadata": {},
   "outputs": [],
   "source": [
    "\n",
    "from sklearn.metrics import mean_squared_error, r2_score"
   ]
  },
  {
   "cell_type": "code",
   "execution_count": 181,
   "id": "5ece2159",
   "metadata": {},
   "outputs": [
    {
     "name": "stdout",
     "output_type": "stream",
     "text": [
      "Mean squared error: 9.39\n",
      "Coefficient of determination: 0.64\n"
     ]
    }
   ],
   "source": [
    "print(\"Mean squared error: %.2f\" % mean_squared_error(y_test, y_test_predicted1))\n",
    "\n",
    "print(\"Coefficient of determination: %.2f\" % r2_score(y_test, y_test_predicted1))"
   ]
  },
  {
   "cell_type": "code",
   "execution_count": 182,
   "id": "79d71a17",
   "metadata": {},
   "outputs": [
    {
     "data": {
      "text/plain": [
       "array([-1.90583457,  1.14568609, -0.01303535, -0.22524673, -0.02691009,\n",
       "       -0.26543002,  0.83794857, -0.54560847])"
      ]
     },
     "execution_count": 182,
     "metadata": {},
     "output_type": "execute_result"
    }
   ],
   "source": [
    "x.coef_"
   ]
  },
  {
   "cell_type": "code",
   "execution_count": 183,
   "id": "f49f7f5f",
   "metadata": {},
   "outputs": [
    {
     "data": {
      "text/plain": [
       "('Danger',\n",
       " 'Predation',\n",
       " 'Gestation',\n",
       " 'Exposure',\n",
       " 'omni',\n",
       " 'herbi',\n",
       " 'carni',\n",
       " 'insecti')"
      ]
     },
     "execution_count": 183,
     "metadata": {},
     "output_type": "execute_result"
    }
   ],
   "source": [
    "'Danger','Predation','Gestation', 'Exposure','omni','herbi','carni','insecti'"
   ]
  },
  {
   "cell_type": "code",
   "execution_count": 184,
   "id": "516f4c71",
   "metadata": {},
   "outputs": [
    {
     "name": "stderr",
     "output_type": "stream",
     "text": [
      "C:\\Users\\kacik\\AppData\\Local\\Temp\\ipykernel_18516\\2863903275.py:6: UserWarning: \n",
      "\n",
      "`distplot` is a deprecated function and will be removed in seaborn v0.14.0.\n",
      "\n",
      "Please adapt your code to use either `displot` (a figure-level function with\n",
      "similar flexibility) or `kdeplot` (an axes-level function for kernel density plots).\n",
      "\n",
      "For a guide to updating your code to use the new functions, please see\n",
      "https://gist.github.com/mwaskom/de44147ed2974457ad6372750bbe5751\n",
      "\n",
      "  ax1 = sns.distplot(y_test, hist=False, color=\"r\", label=\"Actual Value\")\n",
      "C:\\Users\\kacik\\AppData\\Local\\Temp\\ipykernel_18516\\2863903275.py:7: UserWarning: \n",
      "\n",
      "`distplot` is a deprecated function and will be removed in seaborn v0.14.0.\n",
      "\n",
      "Please adapt your code to use either `displot` (a figure-level function with\n",
      "similar flexibility) or `kdeplot` (an axes-level function for kernel density plots).\n",
      "\n",
      "For a guide to updating your code to use the new functions, please see\n",
      "https://gist.github.com/mwaskom/de44147ed2974457ad6372750bbe5751\n",
      "\n",
      "  sns.distplot(y_test_predicted1, hist=False, color=\"b\", label=\"Fitted Values\" , ax=ax1)\n"
     ]
    },
    {
     "data": {
      "text/plain": [
       "<Axes: ylabel='Density'>"
      ]
     },
     "execution_count": 184,
     "metadata": {},
     "output_type": "execute_result"
    },
    {
     "data": {
      "image/png": "[encoded data removed]",
      "text/plain": [
       "<Figure size 1200x1000 with 1 Axes>"
      ]
     },
     "metadata": {},
     "output_type": "display_data"
    }
   ],
   "source": [
    "width = 12\n",
    "height = 10\n",
    "plt.figure(figsize=(width, height))\n",
    "\n",
    "\n",
    "ax1 = sns.distplot(y_test, hist=False, color=\"r\", label=\"Actual Value\")\n",
    "sns.distplot(y_test_predicted1, hist=False, color=\"b\", label=\"Fitted Values\" , ax=ax1)"
   ]
  },
  {
   "cell_type": "code",
   "execution_count": null,
   "id": "0ee11915",
   "metadata": {},
   "outputs": [],
   "source": []
  },
  {
   "cell_type": "code",
   "execution_count": null,
   "id": "64122c73",
   "metadata": {},
   "outputs": [],
   "source": []
  }
 ],
 "metadata": {
  "kernelspec": {
   "display_name": "Python 3 (ipykernel)",
   "language": "python",
   "name": "python3"
  },
  "language_info": {
   "codemirror_mode": {
    "name": "ipython",
    "version": 3
   },
   "file_extension": ".py",
   "mimetype": "text/x-python",
   "name": "python",
   "nbconvert_exporter": "python",
   "pygments_lexer": "ipython3",
   "version": "3.11.5"
  }
 },
 "nbformat": 4,
 "nbformat_minor": 5
}
